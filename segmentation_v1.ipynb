{
  "nbformat": 4,
  "nbformat_minor": 0,
  "metadata": {
    "colab": {
      "name": "segmentation_v1.ipynb",
      "provenance": [],
      "collapsed_sections": []
    },
    "kernelspec": {
      "name": "python3",
      "display_name": "Python 3"
    },
    "accelerator": "GPU"
  },
  "cells": [
    {
      "cell_type": "code",
      "metadata": {
        "id": "waU9EEl5fkCS",
        "colab_type": "code",
        "colab": {}
      },
      "source": [
        "import torch\n",
        "import torch.nn as nn\n",
        "from torch.utils.data import Dataset, DataLoader\n",
        "from torchvision import transforms, utils\n",
        "from torch import optim\n",
        "import torch.nn.functional as F\n",
        "from glob import glob\n",
        "import csv\n",
        "import random\n",
        "import re\n",
        "import os\n",
        "from PIL import Image\n",
        "import numpy as np\n",
        "import sklearn.metrics\n",
        "\n",
        "\n",
        "def double_conv(in_channels, out_channels):\n",
        "    return nn.Sequential(\n",
        "        nn.Conv2d(in_channels, out_channels, 3, padding=1),\n",
        "        nn.ReLU(inplace=True),\n",
        "        nn.Conv2d(out_channels, out_channels, 3, padding=1),\n",
        "        nn.ReLU(inplace=True)\n",
        "    )   \n",
        "\n",
        "\n",
        "class UNet(nn.Module):\n",
        "\n",
        "    def __init__(self, n_class=2):\n",
        "        super().__init__()\n",
        "                \n",
        "        self.dconv_down1 = double_conv(3, 64)\n",
        "        self.dconv_down2 = double_conv(64, 128)\n",
        "        self.dconv_down3 = double_conv(128, 256)\n",
        "        self.dconv_down4 = double_conv(256, 512)        \n",
        "\n",
        "        self.maxpool = nn.MaxPool2d(2)\n",
        "        self.upsample = nn.Upsample(scale_factor=2, mode='bilinear', align_corners=True)        \n",
        "        \n",
        "        self.dconv_up3 = double_conv(256 + 512, 256)\n",
        "        self.dconv_up2 = double_conv(128 + 256, 128)\n",
        "        self.dconv_up1 = double_conv(128 + 64, 64)\n",
        "        \n",
        "        self.conv_last = nn.Conv2d(64, n_class, 1)\n",
        "        \n",
        "        \n",
        "    def forward(self, x):\n",
        "        conv1 = self.dconv_down1(x)\n",
        "        x = self.maxpool(conv1)\n",
        "\n",
        "        conv2 = self.dconv_down2(x)\n",
        "        x = self.maxpool(conv2)\n",
        "        \n",
        "        conv3 = self.dconv_down3(x)\n",
        "        x = self.maxpool(conv3)   \n",
        "        \n",
        "        x = self.dconv_down4(x)\n",
        "        \n",
        "        x = self.upsample(x)        \n",
        "        x = torch.cat([x, conv3], dim=1)\n",
        "        \n",
        "        x = self.dconv_up3(x)\n",
        "        x = self.upsample(x)        \n",
        "        x = torch.cat([x, conv2], dim=1)       \n",
        "\n",
        "        x = self.dconv_up2(x)\n",
        "        x = self.upsample(x)        \n",
        "        x = torch.cat([x, conv1], dim=1)   \n",
        "        \n",
        "        x = self.dconv_up1(x)\n",
        "        \n",
        "        out = self.conv_last(x)\n",
        "        \n",
        "        return out"
      ],
      "execution_count": 5,
      "outputs": []
    },
    {
      "cell_type": "code",
      "metadata": {
        "id": "BrWdqc8oiXtz",
        "colab_type": "code",
        "colab": {}
      },
      "source": [
        "data_transform = transforms.Compose([\n",
        "        #transforms.RandomSizedCrop(224),\n",
        "        transforms.RandomHorizontalFlip(),\n",
        "        transforms.ToTensor(),\n",
        "    ])\n",
        "class image_seg(Dataset):\n",
        "    def __init__(self, data_dir='' ,transform=data_transform):\n",
        "        self.transform = data_transform\n",
        "        self.dirs =glob(data_dir)\n",
        "    def __len__(self):\n",
        "        return len(self.dirs)\n",
        "    def __getitem__(self, idx):\n",
        "        input = Image.open(self.dirs[idx])\n",
        "        filename = os.path.basename(self.dirs[idx])\n",
        "        common_dir = os.path.dirname(os.path.dirname(self.dirs[idx]))\n",
        "        label_dir = common_dir +'/masks/'+filename[:-4] + 'png'\n",
        "        label = Image.open(label_dir).convert('L')\n",
        "        input = self.transform(input)\n",
        "        input = torch.from_numpy(np.array(input)[:,0:224,0:224]).float()\n",
        "        label = np.array(label)[0:224,0:224]\n",
        "        label[label==255] = 1\n",
        "        label = torch.from_numpy(label).long()\n",
        "        return input, label\n",
        "\n",
        "Dataset_obj_train = image_seg(data_dir ='drive/My Drive/Dataset/Amazon_Forest/Training/images/**.tiff' ,transform=data_transform)\n",
        "trainloader = DataLoader(Dataset_obj_train, batch_size=4,shuffle=True, num_workers=2)\n",
        "\n",
        "Dataset_obj_valid = image_seg(data_dir ='drive/My Drive/Dataset/Amazon_Forest/Validation/images/**.tiff',transform=data_transform)\n",
        "validloader = DataLoader(Dataset_obj_valid, batch_size=4,shuffle=False, num_workers=2)\n"
      ],
      "execution_count": 2,
      "outputs": []
    },
    {
      "cell_type": "code",
      "metadata": {
        "id": "2OLU8EQShobu",
        "colab_type": "code",
        "colab": {
          "base_uri": "https://localhost:8080/",
          "height": 1000
        },
        "outputId": "0e138b1d-c404-43e7-c0ff-3abf300da5da"
      },
      "source": [
        "device = torch.device('cuda:0' if torch.cuda.is_available() else 'cpu') \n",
        "loss_function = torch.nn.CrossEntropyLoss()\n",
        "net  = UNet(n_class=2)\n",
        "optimizer = torch.optim.Adam(net.parameters())\n",
        "net.to(device)\n",
        "\n",
        "best_loss = float('inf')\n",
        "best_epoch = 0\n",
        "best_acc = 0\n",
        "for epoch in range(50):\n",
        "    totoal_loss = 0\n",
        "    net.train()\n",
        "    for inputs,labels in trainloader:\n",
        "        inputs = inputs.to(device)\n",
        "        labels = labels.to(device)\n",
        "        optimizer.zero_grad()\n",
        "        logits = net(inputs)\n",
        "        loss = loss_function(logits,labels)\n",
        "        totoal_loss += loss.item()\n",
        "        loss.backward()\n",
        "        optimizer.step()\n",
        "        \n",
        "\n",
        "        \n",
        "\n",
        "    print (f'Epoch: {epoch+1:02} |Loss:{totoal_loss/len(trainloader)}')\n",
        "\n",
        "    net.eval()\n",
        "    with torch.no_grad():\n",
        "        for inputs,labels in validloader:\n",
        "            inputs = inputs.to(device)\n",
        "            labels = labels.to(device)  \n",
        "            logits = net(inputs)\n",
        "            loss = loss_function(logits,labels)\n",
        "            \n",
        "\n",
        "        if loss < best_loss:\n",
        "            best_loss = loss\n",
        "            best_epoch = epoch\n",
        "            torch.save(net.state_dict(), 'best_model.pt')\n",
        "            \n",
        "        print(\"curr_val_loss:\",loss.item(), \"epoch:\", epoch+1, \"best_loss\",best_loss.item(),\"best_epoch\",best_epoch)"
      ],
      "execution_count": 3,
      "outputs": [
        {
          "output_type": "stream",
          "text": [
            "Epoch: 01 |Loss:0.7110781520605087\n",
            "curr_val_loss: 0.6905110478401184 epoch: 1 best_loss 0.6905110478401184 best_epoch 0\n",
            "Epoch: 02 |Loss:0.6909127980470657\n",
            "curr_val_loss: 0.6771504282951355 epoch: 2 best_loss 0.6771504282951355 best_epoch 1\n",
            "Epoch: 03 |Loss:0.6782530024647713\n",
            "curr_val_loss: 0.6047186851501465 epoch: 3 best_loss 0.6047186851501465 best_epoch 2\n",
            "Epoch: 04 |Loss:0.5606506615877151\n",
            "curr_val_loss: 0.47801125049591064 epoch: 4 best_loss 0.47801125049591064 best_epoch 3\n",
            "Epoch: 05 |Loss:0.4991947151720524\n",
            "curr_val_loss: 1.2758880853652954 epoch: 5 best_loss 0.47801125049591064 best_epoch 3\n",
            "Epoch: 06 |Loss:0.483431413769722\n",
            "curr_val_loss: 0.5682178139686584 epoch: 6 best_loss 0.47801125049591064 best_epoch 3\n",
            "Epoch: 07 |Loss:0.46405326947569847\n",
            "curr_val_loss: 0.40947771072387695 epoch: 7 best_loss 0.40947771072387695 best_epoch 6\n",
            "Epoch: 08 |Loss:0.4857613258063793\n",
            "curr_val_loss: 0.32758867740631104 epoch: 8 best_loss 0.32758867740631104 best_epoch 7\n",
            "Epoch: 09 |Loss:0.4730181135237217\n",
            "curr_val_loss: 0.5780493021011353 epoch: 9 best_loss 0.32758867740631104 best_epoch 7\n",
            "Epoch: 10 |Loss:0.5259339865297079\n",
            "curr_val_loss: 0.7126124501228333 epoch: 10 best_loss 0.32758867740631104 best_epoch 7\n",
            "Epoch: 11 |Loss:0.5101093389093876\n",
            "curr_val_loss: 0.38972797989845276 epoch: 11 best_loss 0.32758867740631104 best_epoch 7\n",
            "Epoch: 12 |Loss:0.5546646602451801\n",
            "curr_val_loss: 0.6847798228263855 epoch: 12 best_loss 0.32758867740631104 best_epoch 7\n",
            "Epoch: 13 |Loss:0.41795417852699757\n",
            "curr_val_loss: 0.28417617082595825 epoch: 13 best_loss 0.28417617082595825 best_epoch 12\n",
            "Epoch: 14 |Loss:0.5179898422211409\n",
            "curr_val_loss: 0.36499735713005066 epoch: 14 best_loss 0.28417617082595825 best_epoch 12\n",
            "Epoch: 15 |Loss:0.4194128531962633\n",
            "curr_val_loss: 0.643701434135437 epoch: 15 best_loss 0.28417617082595825 best_epoch 12\n",
            "Epoch: 16 |Loss:0.41228208132088184\n",
            "curr_val_loss: 0.6919982433319092 epoch: 16 best_loss 0.28417617082595825 best_epoch 12\n",
            "Epoch: 17 |Loss:0.4959753565490246\n",
            "curr_val_loss: 0.3521261215209961 epoch: 17 best_loss 0.28417617082595825 best_epoch 12\n",
            "Epoch: 18 |Loss:0.37963807582855225\n",
            "curr_val_loss: 0.6513112187385559 epoch: 18 best_loss 0.28417617082595825 best_epoch 12\n",
            "Epoch: 19 |Loss:0.43201902136206627\n",
            "curr_val_loss: 0.36707863211631775 epoch: 19 best_loss 0.28417617082595825 best_epoch 12\n",
            "Epoch: 20 |Loss:0.34481276385486126\n",
            "curr_val_loss: 0.3298165798187256 epoch: 20 best_loss 0.28417617082595825 best_epoch 12\n",
            "Epoch: 21 |Loss:0.3609394794330001\n",
            "curr_val_loss: 0.16500608623027802 epoch: 21 best_loss 0.16500608623027802 best_epoch 20\n",
            "Epoch: 22 |Loss:0.4918966256082058\n",
            "curr_val_loss: 0.431404173374176 epoch: 22 best_loss 0.16500608623027802 best_epoch 20\n",
            "Epoch: 23 |Loss:0.41970920749008656\n",
            "curr_val_loss: 0.25676313042640686 epoch: 23 best_loss 0.16500608623027802 best_epoch 20\n",
            "Epoch: 24 |Loss:0.40938419476151466\n",
            "curr_val_loss: 0.5945194959640503 epoch: 24 best_loss 0.16500608623027802 best_epoch 20\n",
            "Epoch: 25 |Loss:0.34232740476727486\n",
            "curr_val_loss: 0.3757045567035675 epoch: 25 best_loss 0.16500608623027802 best_epoch 20\n",
            "Epoch: 26 |Loss:0.4047740716487169\n",
            "curr_val_loss: 0.34188351035118103 epoch: 26 best_loss 0.16500608623027802 best_epoch 20\n",
            "Epoch: 27 |Loss:0.5151717960834503\n",
            "curr_val_loss: 0.9743411540985107 epoch: 27 best_loss 0.16500608623027802 best_epoch 20\n",
            "Epoch: 28 |Loss:0.4413841739296913\n",
            "curr_val_loss: 0.2818884253501892 epoch: 28 best_loss 0.16500608623027802 best_epoch 20\n",
            "Epoch: 29 |Loss:0.43534428626298904\n",
            "curr_val_loss: 0.6422092914581299 epoch: 29 best_loss 0.16500608623027802 best_epoch 20\n",
            "Epoch: 30 |Loss:0.4649949297308922\n",
            "curr_val_loss: 0.7087180614471436 epoch: 30 best_loss 0.16500608623027802 best_epoch 20\n",
            "Epoch: 31 |Loss:0.4961765892803669\n",
            "curr_val_loss: 0.28287768363952637 epoch: 31 best_loss 0.16500608623027802 best_epoch 20\n",
            "Epoch: 32 |Loss:0.40158621221780777\n",
            "curr_val_loss: 0.5495715737342834 epoch: 32 best_loss 0.16500608623027802 best_epoch 20\n",
            "Epoch: 33 |Loss:0.40387287735939026\n",
            "curr_val_loss: 0.8716832399368286 epoch: 33 best_loss 0.16500608623027802 best_epoch 20\n",
            "Epoch: 34 |Loss:0.5858376994729042\n",
            "curr_val_loss: 0.7086431980133057 epoch: 34 best_loss 0.16500608623027802 best_epoch 20\n",
            "Epoch: 35 |Loss:0.3919060379266739\n",
            "curr_val_loss: 0.2411678582429886 epoch: 35 best_loss 0.16500608623027802 best_epoch 20\n",
            "Epoch: 36 |Loss:0.5075503848493099\n",
            "curr_val_loss: 0.740240216255188 epoch: 36 best_loss 0.16500608623027802 best_epoch 20\n",
            "Epoch: 37 |Loss:0.4705206863582134\n",
            "curr_val_loss: 0.5938816070556641 epoch: 37 best_loss 0.16500608623027802 best_epoch 20\n",
            "Epoch: 38 |Loss:0.48927396535873413\n",
            "curr_val_loss: 0.554906964302063 epoch: 38 best_loss 0.16500608623027802 best_epoch 20\n",
            "Epoch: 39 |Loss:0.3337257280945778\n",
            "curr_val_loss: 0.37221789360046387 epoch: 39 best_loss 0.16500608623027802 best_epoch 20\n",
            "Epoch: 40 |Loss:0.4519636817276478\n",
            "curr_val_loss: 0.7644515037536621 epoch: 40 best_loss 0.16500608623027802 best_epoch 20\n",
            "Epoch: 41 |Loss:0.3861252376809716\n",
            "curr_val_loss: 0.284110963344574 epoch: 41 best_loss 0.16500608623027802 best_epoch 20\n",
            "Epoch: 42 |Loss:0.3819921240210533\n",
            "curr_val_loss: 0.6533759236335754 epoch: 42 best_loss 0.16500608623027802 best_epoch 20\n",
            "Epoch: 43 |Loss:0.5206136144697666\n",
            "curr_val_loss: 0.4454611539840698 epoch: 43 best_loss 0.16500608623027802 best_epoch 20\n",
            "Epoch: 44 |Loss:0.504390150308609\n",
            "curr_val_loss: 0.18672606348991394 epoch: 44 best_loss 0.16500608623027802 best_epoch 20\n",
            "Epoch: 45 |Loss:0.46562470495700836\n",
            "curr_val_loss: 0.525847852230072 epoch: 45 best_loss 0.16500608623027802 best_epoch 20\n",
            "Epoch: 46 |Loss:0.502493366599083\n",
            "curr_val_loss: 0.17833182215690613 epoch: 46 best_loss 0.16500608623027802 best_epoch 20\n",
            "Epoch: 47 |Loss:0.41567133739590645\n",
            "curr_val_loss: 0.6544796228408813 epoch: 47 best_loss 0.16500608623027802 best_epoch 20\n",
            "Epoch: 48 |Loss:0.4156742449849844\n",
            "curr_val_loss: 0.3805411458015442 epoch: 48 best_loss 0.16500608623027802 best_epoch 20\n",
            "Epoch: 49 |Loss:0.3532179854810238\n",
            "curr_val_loss: 0.5830294489860535 epoch: 49 best_loss 0.16500608623027802 best_epoch 20\n",
            "Epoch: 50 |Loss:0.302723890170455\n",
            "curr_val_loss: 0.7367270588874817 epoch: 50 best_loss 0.16500608623027802 best_epoch 20\n"
          ],
          "name": "stdout"
        }
      ]
    },
    {
      "cell_type": "code",
      "metadata": {
        "id": "myjzbrXhxE0q",
        "colab_type": "code",
        "colab": {
          "base_uri": "https://localhost:8080/",
          "height": 86
        },
        "outputId": "f081504c-d641-48ef-c98f-8c0f6fdc1d44"
      },
      "source": [
        "net.load_state_dict(torch.load('best_model.pt'))\n",
        "\n",
        "for inputs,actual in validloader:\n",
        "    inputs = inputs.to(device)\n",
        "    print(inputs.size())\n",
        "    logit = net(inputs)\n",
        "    pred = logit.argmax(dim=1)\n",
        "    print(logit.size())\n",
        "    print(actual.size())\n",
        "    print(pred.size())\n",
        "    break\n",
        "    \n",
        "    "
      ],
      "execution_count": 18,
      "outputs": [
        {
          "output_type": "stream",
          "text": [
            "torch.Size([4, 3, 224, 224])\n",
            "torch.Size([4, 2, 224, 224])\n",
            "torch.Size([4, 224, 224])\n",
            "torch.Size([4, 224, 224])\n"
          ],
          "name": "stdout"
        }
      ]
    },
    {
      "cell_type": "code",
      "metadata": {
        "id": "OHxRanri1TNl",
        "colab_type": "code",
        "colab": {
          "base_uri": "https://localhost:8080/",
          "height": 34
        },
        "outputId": "b54e79d5-17ba-4ecf-a5a4-9a3f322c6e6f"
      },
      "source": [
        "actual[0].unique()"
      ],
      "execution_count": 17,
      "outputs": [
        {
          "output_type": "execute_result",
          "data": {
            "text/plain": [
              "tensor([0, 1])"
            ]
          },
          "metadata": {
            "tags": []
          },
          "execution_count": 17
        }
      ]
    },
    {
      "cell_type": "code",
      "metadata": {
        "id": "fLQdx08_1dBX",
        "colab_type": "code",
        "colab": {
          "base_uri": "https://localhost:8080/",
          "height": 34
        },
        "outputId": "7b7d7d53-63b5-4037-fe16-ec23150bedd3"
      },
      "source": [
        "pred.unique()"
      ],
      "execution_count": 19,
      "outputs": [
        {
          "output_type": "execute_result",
          "data": {
            "text/plain": [
              "tensor([0, 1], device='cuda:0')"
            ]
          },
          "metadata": {
            "tags": []
          },
          "execution_count": 19
        }
      ]
    },
    {
      "cell_type": "code",
      "metadata": {
        "id": "c-U64lCU4t9V",
        "colab_type": "code",
        "colab": {
          "base_uri": "https://localhost:8080/",
          "height": 34
        },
        "outputId": "f61c3ca7-3e67-4839-b8d2-61ed0964cf38"
      },
      "source": [
        "A=pred[0]"
      ],
      "execution_count": 20,
      "outputs": [
        {
          "output_type": "execute_result",
          "data": {
            "text/plain": [
              "torch.Size([224, 224])"
            ]
          },
          "metadata": {
            "tags": []
          },
          "execution_count": 20
        }
      ]
    },
    {
      "cell_type": "code",
      "metadata": {
        "id": "AQktk2oi5lKY",
        "colab_type": "code",
        "colab": {
          "base_uri": "https://localhost:8080/",
          "height": 34
        },
        "outputId": "5b03a761-6eb4-4431-bb87-acb09efae2e2"
      },
      "source": [
        "import matplotlib\n",
        "A = pred[1].cpu().numpy() \n",
        "B = actual[1].cpu().numpy()\n",
        "C = inputs[1].cpu().numpy() \n",
        "C = np.transpose(C, (1, 2, 0))\n",
        "print(C.shape) \n",
        "matplotlib.image.imsave('pred.png', A)\n",
        "matplotlib.image.imsave('actual.png', B)\n",
        "matplotlib.image.imsave('inputs.png', C)"
      ],
      "execution_count": 36,
      "outputs": [
        {
          "output_type": "stream",
          "text": [
            "(224, 224, 3)\n"
          ],
          "name": "stdout"
        }
      ]
    },
    {
      "cell_type": "code",
      "metadata": {
        "id": "1JzHXA9T-syA",
        "colab_type": "code",
        "colab": {}
      },
      "source": [
        ""
      ],
      "execution_count": null,
      "outputs": []
    }
  ]
}